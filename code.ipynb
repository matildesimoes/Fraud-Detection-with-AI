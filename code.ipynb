{
 "cells": [
  {
   "cell_type": "markdown",
   "metadata": {},
   "source": [
    "# **Credit Card Fraud Detection**\n",
    "\n",
    "![logo](images/credit-card-fraud-detection.webp)"
   ]
  },
  {
   "cell_type": "markdown",
   "metadata": {},
   "source": [
    "## Introdução\n",
    "\n",
    "O objetivo deste projeto é desenvolver um modelo de *Machine Learning* capaz de identificar transações fraudulentas em cartões de crédito. Usando informações disponíveis, o modelo aprenderá a diferenciar as transações legítimas das fraudulentas.\n",
    "\n",
    "O modelo vai ser desenvolvido utilizando a linguagem *Python* e vai ser testado e treinado com dados de um *dataset* disponível no *Kaggle* [Kaggle](https://www.kaggle.com/datasets/mlg-ulb/creditcardfraud).\n",
    "\n",
    "A abordagem realizada seguirá a metodologia *CRISP-DM* (Cross-Industry Standard Process for Data Mining), que inclui as seguintes etapas: compreensão do tema, compreensão dos dados, preparação dos dados, modelagem, avaliação e implantação.\n",
    "\n",
    "## Estrutura do Projeto\n",
    "\n",
    "O projeto é composto por:\n",
    "\n",
    "- code.ipynb: *Juptyer Notebook* com a abordagem realizada e o código desenvolvido;\n",
    "- images: pasta com as imagens utilizadas no projeto.\n",
    "- CreditCardFraudDetection: *dataset* utilizado no projeto.\n",
    "\n",
    "## Tecnologias Utilizadas\n",
    "\n",
    "Como já foi referido, a linguagem de programação utilizada será o *Python* e as bibliotecas utilizadas foram:\n",
    "\n",
    "- *Matplotlib* e *Seaborn* para visualização dos dados;\n",
    "- *Pandas* para manipulação dos dados;\n",
    "- *NumPy* para tratar os dados númericos;\n",
    "- *Scikit-learn* para desenvolver o modelo de *Machine Learning*."
   ]
  },
  {
   "cell_type": "markdown",
   "metadata": {},
   "source": [
    "import matplotlib.pyplot as plt\n",
    "import seaborn as sb\n",
    "import pandas as pd\n",
    "import numpy as np\n",
    "\n",
    "import warnings\n",
    "from sklearn.ensemble import RandomForestClassifier\n",
    "from sklearn.metrics import classification_report, confusion_matrix, ConfusionMatrixDisplay\n",
    "from sklearn.model_selection import cross_val_score, train_test_split, GridSearchCV, StratifiedKFold\n",
    "from sklearn.neighbors import KNeighborsClassifier\n",
    "from sklearn.neural_network import MLPClassifier\n",
    "from sklearn.pipeline import make_pipeline\n",
    "from sklearn.preprocessing import StandardScaler\n",
    "from sklearn.svm import SVC\n",
    "from sklearn.tree import DecisionTreeClassifier\n",
    "\n",
    "%matplotlib inline\n",
    "warnings.filterwarnings('ignore')"
   ]
  },
  {
   "cell_type": "markdown",
   "metadata": {},
   "source": [
    "## Compreensão do Tema\n",
    " \n",
    "Os cartões de crédito são atualmente um dos meios de pagamento mais adotados, especialmente com a expansão do comércio online. Contudo, essa evolução aumentou a exposição dos consumidores a fraudes, sendo a segurança um aspeto essencial tanto para as instituições financeiras quanto para os consumidores.\n",
    "\n",
    "Este problema tem como objetivo prever se uma transação de cartão de crédito é **legítima** ou **fraudulenta**, utilizando um *dataset*. O objetivo principal é identificar transações suspeitas com precisão, de forma a prevenir impactos negativos financeiros.\n",
    "\n",
    "O objetivo do modelo consiste em classificar cada transação num dos dois grupos mutuamente exclusivos:\n",
    "- **Legítima**: Transação autorizada, realizada pelo titular do cartão.\n",
    "- **Fraudulenta**: Transação não autorizada, efetuada por terceiros.\n",
    "\n",
    "Para abordar o problema, será desenvolvido um modelo de *machine learning* especializado em classificação binária, capaz de distinguir transações legítimas das fraudulentas com alto grau de precisão. \n",
    "\n",
    "O modelo será treinado utilizando uma abordagem de *supervised learning*, com a meta de alcançar uma alta taxa de precisão e recall nos dados de teste, assegurando eficácia prática e capacidade de minimizar falsos positivos e falsos negativos na deteção de fraudes.\n",
    "\n",
    "## Compreensão dos Dados\n",
    "\n"
   ]
  }
 ],
 "metadata": {
  "language_info": {
   "name": "python"
  }
 },
 "nbformat": 4,
 "nbformat_minor": 2
}
